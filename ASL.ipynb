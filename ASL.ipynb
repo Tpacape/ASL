{
 "cells": [
  {
   "cell_type": "code",
   "execution_count": 1,
   "metadata": {},
   "outputs": [
    {
     "name": "stderr",
     "output_type": "stream",
     "text": [
      "Using TensorFlow backend.\n"
     ]
    }
   ],
   "source": [
    "import numpy as np\n",
    "import pandas as pd\n",
    "import matplotlib.pyplot as plt\n",
    "import seaborn as sns\n",
    "import cv2\n",
    "\n",
    "from sklearn.preprocessing import LabelBinarizer\n",
    "from sklearn.model_selection import train_test_split\n",
    "from sklearn.metrics import accuracy_score\n",
    "\n",
    "import keras\n",
    "from keras.models import Sequential\n",
    "from keras.layers import Dense, Conv2D, MaxPooling2D, Flatten, Dropout\n",
    "\n",
    "from PIL import Image\n",
    "\n",
    "from numpy.random import seed\n",
    "seed(1)\n",
    "from tensorflow import set_random_seed\n",
    "set_random_seed(2)"
   ]
  },
  {
   "cell_type": "code",
   "execution_count": 2,
   "metadata": {},
   "outputs": [],
   "source": [
    "train = pd.read_csv('datasets/sign_mnist_train.csv')\n",
    "test = pd.read_csv('datasets/sign_mnist_test.csv')"
   ]
  },
  {
   "cell_type": "code",
   "execution_count": 3,
   "metadata": {},
   "outputs": [],
   "source": [
    "labels = train['label'].values\n",
    "train.drop('label', axis = 1, inplace = True)\n",
    "\n",
    "images = train.values\n",
    "images = np.array([np.reshape(i, (28, 28)) for i in images])\n",
    "images = np.array([i.flatten() for i in images])\n",
    "\n",
    "label_binrizer = LabelBinarizer()\n",
    "labels = label_binrizer.fit_transform(labels)"
   ]
  },
  {
   "cell_type": "code",
   "execution_count": 4,
   "metadata": {},
   "outputs": [],
   "source": [
    "batch_size = 128\n",
    "num_classes = 24\n",
    "epochs = 20\n",
    "\n",
    "x_train, x_test, y_train, y_test = train_test_split(images, labels, test_size = 0.3, random_state = 101)\n",
    "\n",
    "x_train = x_train / 255\n",
    "x_train = x_train.reshape(x_train.shape[0], 28, 28, 1)\n",
    "\n",
    "x_test = x_test / 255\n",
    "x_test = x_test.reshape(x_test.shape[0], 28, 28, 1)"
   ]
  },
  {
   "cell_type": "code",
   "execution_count": 5,
   "metadata": {},
   "outputs": [
    {
     "name": "stdout",
     "output_type": "stream",
     "text": [
      "WARNING:tensorflow:From C:\\Users\\ncharbit\\AppData\\Local\\Continuum\\anaconda3\\lib\\site-packages\\tensorflow\\python\\framework\\op_def_library.py:263: colocate_with (from tensorflow.python.framework.ops) is deprecated and will be removed in a future version.\n",
      "Instructions for updating:\n",
      "Colocations handled automatically by placer.\n",
      "WARNING:tensorflow:From C:\\Users\\ncharbit\\AppData\\Local\\Continuum\\anaconda3\\lib\\site-packages\\keras\\backend\\tensorflow_backend.py:3445: calling dropout (from tensorflow.python.ops.nn_ops) with keep_prob is deprecated and will be removed in a future version.\n",
      "Instructions for updating:\n",
      "Please use `rate` instead of `keep_prob`. Rate should be set to `rate = 1 - keep_prob`.\n",
      "WARNING:tensorflow:From C:\\Users\\ncharbit\\AppData\\Local\\Continuum\\anaconda3\\lib\\site-packages\\tensorflow\\python\\ops\\math_ops.py:3066: to_int32 (from tensorflow.python.ops.math_ops) is deprecated and will be removed in a future version.\n",
      "Instructions for updating:\n",
      "Use tf.cast instead.\n",
      "Train on 19218 samples, validate on 8237 samples\n",
      "Epoch 1/20\n",
      "19218/19218 [==============================] - 37s 2ms/step - loss: 3.0632 - acc: 0.0786 - val_loss: 2.5959 - val_acc: 0.1947\n",
      "Epoch 2/20\n",
      "19218/19218 [==============================] - 38s 2ms/step - loss: 2.3000 - acc: 0.2664 - val_loss: 1.4499 - val_acc: 0.6002\n",
      "Epoch 3/20\n",
      "19218/19218 [==============================] - 40s 2ms/step - loss: 1.6096 - acc: 0.4608 - val_loss: 0.9304 - val_acc: 0.7579\n",
      "Epoch 4/20\n",
      "19218/19218 [==============================] - 43s 2ms/step - loss: 1.2146 - acc: 0.5820 - val_loss: 0.6442 - val_acc: 0.8045\n",
      "Epoch 5/20\n",
      "19218/19218 [==============================] - 42s 2ms/step - loss: 1.0035 - acc: 0.6525 - val_loss: 0.4992 - val_acc: 0.8695\n",
      "Epoch 6/20\n",
      "19218/19218 [==============================] - 44s 2ms/step - loss: 0.8675 - acc: 0.6980 - val_loss: 0.3553 - val_acc: 0.9049\n",
      "Epoch 7/20\n",
      "19218/19218 [==============================] - 42s 2ms/step - loss: 0.7362 - acc: 0.7391 - val_loss: 0.2904 - val_acc: 0.9229\n",
      "Epoch 8/20\n",
      "19218/19218 [==============================] - 42s 2ms/step - loss: 0.6425 - acc: 0.7730 - val_loss: 0.2240 - val_acc: 0.9484\n",
      "Epoch 9/20\n",
      "19218/19218 [==============================] - 39s 2ms/step - loss: 0.5615 - acc: 0.7987 - val_loss: 0.1826 - val_acc: 0.9548\n",
      "Epoch 10/20\n",
      "19218/19218 [==============================] - 38s 2ms/step - loss: 0.5177 - acc: 0.8170 - val_loss: 0.1561 - val_acc: 0.9621\n",
      "Epoch 11/20\n",
      "19218/19218 [==============================] - 40s 2ms/step - loss: 0.4583 - acc: 0.8367 - val_loss: 0.1222 - val_acc: 0.9733\n",
      "Epoch 12/20\n",
      "19218/19218 [==============================] - 40s 2ms/step - loss: 0.4169 - acc: 0.8518 - val_loss: 0.0862 - val_acc: 0.9802\n",
      "Epoch 13/20\n",
      "19218/19218 [==============================] - 38s 2ms/step - loss: 0.3743 - acc: 0.8659 - val_loss: 0.0697 - val_acc: 0.9881\n",
      "Epoch 14/20\n",
      "19218/19218 [==============================] - 40s 2ms/step - loss: 0.3269 - acc: 0.8792 - val_loss: 0.0557 - val_acc: 0.9870\n",
      "Epoch 15/20\n",
      "19218/19218 [==============================] - 40s 2ms/step - loss: 0.3023 - acc: 0.8909 - val_loss: 0.0454 - val_acc: 0.9902\n",
      "Epoch 16/20\n",
      "19218/19218 [==============================] - 38s 2ms/step - loss: 0.2809 - acc: 0.8987 - val_loss: 0.0396 - val_acc: 0.9938\n",
      "Epoch 17/20\n",
      "19218/19218 [==============================] - 38s 2ms/step - loss: 0.2613 - acc: 0.9068 - val_loss: 0.0279 - val_acc: 0.9966\n",
      "Epoch 18/20\n",
      "19218/19218 [==============================] - 38s 2ms/step - loss: 0.2355 - acc: 0.9147 - val_loss: 0.0223 - val_acc: 0.9964\n",
      "Epoch 19/20\n",
      "19218/19218 [==============================] - 38s 2ms/step - loss: 0.2314 - acc: 0.9150 - val_loss: 0.0174 - val_acc: 0.9981\n",
      "Epoch 20/20\n",
      "19218/19218 [==============================] - 38s 2ms/step - loss: 0.2090 - acc: 0.9235 - val_loss: 0.0151 - val_acc: 0.9989\n"
     ]
    }
   ],
   "source": [
    "model = Sequential()\n",
    "model.add(Conv2D(64, kernel_size=(3,3), activation = 'relu', input_shape=(28, 28 ,1) ))\n",
    "model.add(MaxPooling2D(pool_size = (2, 2)))\n",
    "\n",
    "model.add(Conv2D(64, kernel_size = (3, 3), activation = 'relu'))\n",
    "model.add(MaxPooling2D(pool_size = (2, 2)))\n",
    "\n",
    "model.add(Conv2D(64, kernel_size = (3, 3), activation = 'relu'))\n",
    "model.add(MaxPooling2D(pool_size = (2, 2)))\n",
    "\n",
    "model.add(Flatten())\n",
    "model.add(Dense(128, activation = 'relu'))\n",
    "model.add(Dropout(rate = 0.80))\n",
    "model.add(Dense(num_classes, activation = 'softmax'))\n",
    "\n",
    "model.compile(loss = keras.losses.categorical_crossentropy, optimizer=keras.optimizers.Adam(), metrics=['accuracy'])\n",
    "history = model.fit(x_train, y_train, validation_data = (x_test, y_test), epochs=epochs, batch_size=batch_size)"
   ]
  },
  {
   "cell_type": "code",
   "execution_count": 6,
   "metadata": {},
   "outputs": [
    {
     "data": {
      "image/png": "[encoded data removed]",
      "text/plain": [
       "<Figure size 432x288 with 1 Axes>"
      ]
     },
     "metadata": {
      "needs_background": "light"
     },
     "output_type": "display_data"
    },
    {
     "data": {
      "image/png": "[encoded data removed]",
      "text/plain": [
       "<Figure size 432x288 with 1 Axes>"
      ]
     },
     "metadata": {
      "needs_background": "light"
     },
     "output_type": "display_data"
    }
   ],
   "source": [
    "# summarize history for accuracy\n",
    "plt.plot(history.history['acc'])\n",
    "plt.plot(history.history['val_acc'])\n",
    "plt.title('Model accuracy')\n",
    "plt.ylabel('Accuracy')\n",
    "plt.xlabel('Epoch')\n",
    "plt.legend(['train', 'test'], loc='upper left')\n",
    "plt.show()\n",
    "\n",
    "# summarize history for loss\n",
    "plt.plot(history.history['loss'])\n",
    "plt.plot(history.history['val_loss'])\n",
    "plt.title('Model loss')\n",
    "plt.ylabel('Loss')\n",
    "plt.xlabel('Epoch')\n",
    "plt.legend(['train', 'test'], loc='upper left')\n",
    "plt.show()"
   ]
  },
  {
   "cell_type": "code",
   "execution_count": 7,
   "metadata": {},
   "outputs": [],
   "source": [
    "test_labels = test['label']\n",
    "test.drop('label', axis = 1, inplace = True)\n",
    "\n",
    "test_images = test.values\n",
    "test_images = np.array([np.reshape(i, (28, 28)) for i in test_images])\n",
    "test_images = np.array([i.flatten() for i in test_images])\n",
    "test_images = test_images.reshape(test_images.shape[0], 28, 28, 1)\n",
    "\n",
    "label_binrizer = LabelBinarizer()\n",
    "test_labels = label_binrizer.fit_transform(test_labels)"
   ]
  },
  {
   "cell_type": "code",
   "execution_count": 8,
   "metadata": {},
   "outputs": [
    {
     "data": {
      "text/plain": [
       "0.8551310652537646"
      ]
     },
     "execution_count": 8,
     "metadata": {},
     "output_type": "execute_result"
    }
   ],
   "source": [
    "y_pred = model.predict(test_images)\n",
    "accuracy_score(test_labels, y_pred.round())"
   ]
  },
  {
   "cell_type": "code",
   "execution_count": 11,
   "metadata": {},
   "outputs": [],
   "source": [
    "def predict_from_frame(frame):\n",
    "    \n",
    "    #Resizing into 28x28 because we trained the model with this image size.\n",
    "    im = cv2.resize(frame, (28,28))\n",
    "    im = cv2.cvtColor(im, cv2.COLOR_BGR2GRAY)\n",
    "    \n",
    "    plt.imshow(im.reshape(28,28))\n",
    "    \n",
    "    im = im.reshape((1,28,28,1))\n",
    "    im = np.array(im)\n",
    "    \n",
    "    \n",
    "    \n",
    "    #Calling the predict method on model\n",
    "    prediction = model.predict(im)\n",
    "    prediction = np.argmax(prediction)\n",
    "    prediction = chr(int(prediction) + 65)\n",
    "    \n",
    "    cv2.putText(frame, prediction, (50, 50), cv2.FONT_HERSHEY_SIMPLEX, 2, 255)\n",
    "    \n",
    "    return\n",
    "\n",
    "def draw_rectangle(frame):\n",
    "    \n",
    "        # Dessine un rectange\n",
    "        height, width, channels = frame.shape\n",
    "        x = int(width/4)\n",
    "        w = x * 3\n",
    "        y = int(height/4)\n",
    "        h = y * 3\n",
    "        cv2.rectangle(frame, (x, y), (w, h), (0, 255, 0), 2)\n",
    "        \n",
    "        # On cropp la frame pour éliminer le bruit\n",
    "        im = frame[y:h, x:w]\n",
    "        \n",
    "        return (im)"
   ]
  },
  {
   "cell_type": "code",
   "execution_count": 12,
   "metadata": {},
   "outputs": [
    {
     "data": {
      "image/png": "[encoded data removed]",
      "text/plain": [
       "<Figure size 432x288 with 1 Axes>"
      ]
     },
     "metadata": {
      "needs_background": "light"
     },
     "output_type": "display_data"
    }
   ],
   "source": [
    "#Load the saved model\n",
    "video = cv2.VideoCapture(0)\n",
    "\n",
    "while True:\n",
    "        _, frame = video.read()\n",
    "        \n",
    "        # Dessine un rectangle et cropp l'image\n",
    "        im = draw_rectangle(frame)\n",
    "        \n",
    "        # Entre l'image dans le model et prédit\n",
    "        predict_from_frame(im)   \n",
    "        \n",
    "        # Display l'image\n",
    "        cv2.imshow(\"Capturing\", frame)\n",
    "                \n",
    "        key=cv2.waitKey(1)\n",
    "        if key == ord('q'):\n",
    "                break\n",
    "video.release()\n",
    "cv2.destroyAllWindows()"
   ]
  },
  {
   "cell_type": "code",
   "execution_count": null,
   "metadata": {},
   "outputs": [],
   "source": []
  }
 ],
 "metadata": {
  "kernelspec": {
   "display_name": "Python 3",
   "language": "python",
   "name": "python3"
  },
  "language_info": {
   "codemirror_mode": {
    "name": "ipython",
    "version": 3
   },
   "file_extension": ".py",
   "mimetype": "text/x-python",
   "name": "python",
   "nbconvert_exporter": "python",
   "pygments_lexer": "ipython3",
   "version": "3.7.1"
  }
 },
 "nbformat": 4,
 "nbformat_minor": 2
}
